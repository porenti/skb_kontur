{
 "cells": [
  {
   "cell_type": "markdown",
   "id": "16734c0d",
   "metadata": {},
   "source": [
    "**Импорт библиотек**"
   ]
  },
  {
   "cell_type": "code",
   "execution_count": 10,
   "id": "4952330a",
   "metadata": {},
   "outputs": [],
   "source": [
    "import pandas as pd\n",
    "import string\n",
    "import pymorphy2\n",
    "\n",
    "from sklearn.linear_model import LogisticRegression\n",
    "from sklearn.pipeline import Pipeline\n",
    "from sklearn.feature_extraction.text import CountVectorizer, TfidfTransformer\n",
    "from nltk.tokenize import TreebankWordTokenizer\n",
    "from nltk.corpus import stopwords"
   ]
  },
  {
   "cell_type": "markdown",
   "id": "6a4cbe85",
   "metadata": {},
   "source": [
    "**Задание основных объектов/переменных**"
   ]
  },
  {
   "cell_type": "code",
   "execution_count": 11,
   "id": "ce704305",
   "metadata": {},
   "outputs": [],
   "source": [
    "dirt_data = pd.read_csv('train.tsv', sep='\\t', header=0) #Ввод данных для обучения\n",
    "dirt_data_prediction = pd.read_csv('predictions.tsv', sep='\\t', header=0) #ввод данных для обработки\n",
    "stop = stopwords.words(\"russian\") #стоп-слова для их исключения\n",
    "morph = pymorphy2.MorphAnalyzer(lang='ru') #объект морфологического разбора для русских слов"
   ]
  },
  {
   "cell_type": "markdown",
   "id": "b8345ab9",
   "metadata": {},
   "source": [
    "**Основные функции**"
   ]
  },
  {
   "cell_type": "code",
   "execution_count": 12,
   "id": "9eedad92",
   "metadata": {},
   "outputs": [],
   "source": [
    "def punctuation_remove(text):\n",
    "    '''Функция принимает строку и возвращает строку. Убирает все знаки стандартные знаки пунктуации из нее'''\n",
    "    chars = string.punctuation\n",
    "    chars += '«»' #не входят в punctuation\n",
    "    all_list = [char for char in text if char not in chars]\n",
    "    clean_str = ''.join(all_list)\n",
    "    return clean_str\n",
    "\n",
    "def clean_data_frame(_data_frame):  \n",
    "    \"\"\"Функция принимает датафрейм(который обязательно включает в себя поле ['title']) в качестве аргумента и возвращает значение измененного датафрейма.\n",
    "    Преобразует начальный список данных в преобразованный для анализа\"\"\"\n",
    "    _data_frame['title'] = _data_frame['title'].apply(lambda x: x.lower())\n",
    "    _data_frame['title'] = _data_frame['title'].apply(punctuation_remove)\n",
    "    _data_frame['title'] = _data_frame['title'].apply(lambda x: ' '.join([word for word in x.split() if word not in (stop)]))\n",
    "    _data_frame['title'] = _data_frame['title'].apply(lambda x: TreebankWordTokenizer().tokenize(x))\n",
    "    _data_frame['title'] = _data_frame['title'].apply(lambda x: [morph.parse(str(item))[0][2] for item in x])\n",
    "    _data_frame['title'] = _data_frame['title'].apply(lambda x: ' '.join(x))\n",
    "    return _data_frame\n"
   ]
  },
  {
   "cell_type": "markdown",
   "id": "e82d6e8b",
   "metadata": {},
   "source": [
    "**Обучение модели**"
   ]
  },
  {
   "cell_type": "code",
   "execution_count": 13,
   "id": "9a083593",
   "metadata": {},
   "outputs": [],
   "source": [
    "pipe = Pipeline([('vect', CountVectorizer()),\n",
    "                 ('tfidf', TfidfTransformer()),\n",
    "                 ('model', LogisticRegression())])\n",
    "\n",
    "clear_data = clean_data_frame(dirt_data)\n",
    "\n",
    "model = pipe.fit(clear_data['title'], clear_data['is_fake'])"
   ]
  },
  {
   "cell_type": "markdown",
   "id": "aaa102ac",
   "metadata": {},
   "source": [
    "**Предсказание**"
   ]
  },
  {
   "cell_type": "code",
   "execution_count": 14,
   "id": "11cce862",
   "metadata": {},
   "outputs": [],
   "source": [
    "data_prediction = clean_data_frame(dirt_data_prediction)\n",
    "result_prediction = model.predict(data_prediction['title'])"
   ]
  },
  {
   "cell_type": "markdown",
   "id": "33011275",
   "metadata": {},
   "source": [
    "**Объединение данных**"
   ]
  },
  {
   "cell_type": "code",
   "execution_count": 15,
   "id": "d8ff3a04",
   "metadata": {},
   "outputs": [
    {
     "data": {
      "text/html": [
       "<div>\n",
       "<style scoped>\n",
       "    .dataframe tbody tr th:only-of-type {\n",
       "        vertical-align: middle;\n",
       "    }\n",
       "\n",
       "    .dataframe tbody tr th {\n",
       "        vertical-align: top;\n",
       "    }\n",
       "\n",
       "    .dataframe thead th {\n",
       "        text-align: right;\n",
       "    }\n",
       "</style>\n",
       "<table border=\"1\" class=\"dataframe\">\n",
       "  <thead>\n",
       "    <tr style=\"text-align: right;\">\n",
       "      <th></th>\n",
       "      <th>title</th>\n",
       "      <th>is_fake</th>\n",
       "    </tr>\n",
       "  </thead>\n",
       "  <tbody>\n",
       "    <tr>\n",
       "      <th>0</th>\n",
       "      <td>Роскомнадзор представил реестр сочетаний цвето...</td>\n",
       "      <td>1</td>\n",
       "    </tr>\n",
       "    <tr>\n",
       "      <th>1</th>\n",
       "      <td>Ночью под Минском на президентской горе Белара...</td>\n",
       "      <td>1</td>\n",
       "    </tr>\n",
       "    <tr>\n",
       "      <th>2</th>\n",
       "      <td>Бывший спичрайтер Юрия Лозы рассказал о трудно...</td>\n",
       "      <td>1</td>\n",
       "    </tr>\n",
       "    <tr>\n",
       "      <th>3</th>\n",
       "      <td>Сельская церковь, собравшая рекордно низкое ко...</td>\n",
       "      <td>1</td>\n",
       "    </tr>\n",
       "    <tr>\n",
       "      <th>4</th>\n",
       "      <td>Акции Google рухнули после объявления о переза...</td>\n",
       "      <td>0</td>\n",
       "    </tr>\n",
       "    <tr>\n",
       "      <th>...</th>\n",
       "      <td>...</td>\n",
       "      <td>...</td>\n",
       "    </tr>\n",
       "    <tr>\n",
       "      <th>995</th>\n",
       "      <td>Прокуратура заподозрила Явлинского в авторитар...</td>\n",
       "      <td>1</td>\n",
       "    </tr>\n",
       "    <tr>\n",
       "      <th>996</th>\n",
       "      <td>В День Победы стратегические ракетоносцы Ту-16...</td>\n",
       "      <td>1</td>\n",
       "    </tr>\n",
       "    <tr>\n",
       "      <th>997</th>\n",
       "      <td>СК возбудил дело против авиакомпании «Победа» ...</td>\n",
       "      <td>1</td>\n",
       "    </tr>\n",
       "    <tr>\n",
       "      <th>998</th>\n",
       "      <td>Криптомонетный двор Туркменистана выпустил юби...</td>\n",
       "      <td>1</td>\n",
       "    </tr>\n",
       "    <tr>\n",
       "      <th>999</th>\n",
       "      <td>Deutsche Bahn заплатит рекордный штраф за чтен...</td>\n",
       "      <td>1</td>\n",
       "    </tr>\n",
       "  </tbody>\n",
       "</table>\n",
       "<p>1000 rows × 2 columns</p>\n",
       "</div>"
      ],
      "text/plain": [
       "                                                 title  is_fake\n",
       "0    Роскомнадзор представил реестр сочетаний цвето...        1\n",
       "1    Ночью под Минском на президентской горе Белара...        1\n",
       "2    Бывший спичрайтер Юрия Лозы рассказал о трудно...        1\n",
       "3    Сельская церковь, собравшая рекордно низкое ко...        1\n",
       "4    Акции Google рухнули после объявления о переза...        0\n",
       "..                                                 ...      ...\n",
       "995  Прокуратура заподозрила Явлинского в авторитар...        1\n",
       "996  В День Победы стратегические ракетоносцы Ту-16...        1\n",
       "997  СК возбудил дело против авиакомпании «Победа» ...        1\n",
       "998  Криптомонетный двор Туркменистана выпустил юби...        1\n",
       "999  Deutsche Bahn заплатит рекордный штраф за чтен...        1\n",
       "\n",
       "[1000 rows x 2 columns]"
      ]
     },
     "execution_count": 15,
     "metadata": {},
     "output_type": "execute_result"
    }
   ],
   "source": [
    "dirt_data_prediction = pd.read_csv('predictions.tsv', sep='\\t', header=0)\n",
    "finish_data = pd.concat([dirt_data_prediction['title'], pd.DataFrame(result_prediction)], axis=1)\n",
    "finish_data.rename(columns = {0: \"is_fake\"}, inplace = True)\n",
    "finish_data"
   ]
  },
  {
   "cell_type": "markdown",
   "id": "7511e99d",
   "metadata": {},
   "source": [
    "**Вывод результата в файл**"
   ]
  },
  {
   "cell_type": "code",
   "execution_count": 8,
   "id": "f5e197ad",
   "metadata": {},
   "outputs": [],
   "source": [
    "finish_data.to_csv('predictions.tsv',sep='\\t', index=False)"
   ]
  },
  {
   "cell_type": "code",
   "execution_count": null,
   "id": "784581d3",
   "metadata": {},
   "outputs": [],
   "source": []
  }
 ],
 "metadata": {
  "kernelspec": {
   "display_name": "Python 3 (ipykernel)",
   "language": "python",
   "name": "python3"
  },
  "language_info": {
   "codemirror_mode": {
    "name": "ipython",
    "version": 3
   },
   "file_extension": ".py",
   "mimetype": "text/x-python",
   "name": "python",
   "nbconvert_exporter": "python",
   "pygments_lexer": "ipython3",
   "version": "3.9.7"
  }
 },
 "nbformat": 4,
 "nbformat_minor": 5
}
